{
 "cells": [
  {
   "cell_type": "code",
   "execution_count": 1,
   "metadata": {
    "_cell_guid": "b1076dfc-b9ad-4769-8c92-a6c4dae69d19",
    "_uuid": "8f2839f25d086af736a60e9eeb907d3b93b6e0e5",
    "execution": {
     "iopub.execute_input": "2022-02-18T07:01:27.789151Z",
     "iopub.status.busy": "2022-02-18T07:01:27.788736Z",
     "iopub.status.idle": "2022-02-18T07:01:27.814972Z",
     "shell.execute_reply": "2022-02-18T07:01:27.814244Z",
     "shell.execute_reply.started": "2022-02-18T07:01:27.789071Z"
    }
   },
   "outputs": [],
   "source": [
    "# This Python 3 environment comes with many helpful analytics libraries installed\n",
    "# It is defined by the kaggle/python Docker image: https://github.com/kaggle/docker-python\n",
    "# For example, here's several helpful packages to load\n",
    "\n",
    "import numpy as np # linear algebra\n",
    "import pandas as pd # data processing, CSV file I/O (e.g. pd.read_csv)\n",
    "\n",
    "# Input data files are available in the read-only \"../input/\" directory\n",
    "# For example, running this (by clicking run or pressing Shift+Enter) will list all files under the input directory\n",
    "\n",
    "import os\n",
    "'''for dirname, _, filenames in os.walk('/kaggle/input'):\n",
    "    for filename in filenames:\n",
    "        print(os.path.join(dirname, filename))'''\n",
    "\n",
    "# You can write up to 20GB to the current directory (/kaggle/working/) that gets preserved as output when you create a version using \"Save & Run All\" \n",
    "# You can also write temporary files to /kaggle/temp/, but they won't be saved outside of the current session"
   ]
  },
  {
   "cell_type": "code",
   "execution_count": 2,
   "metadata": {
    "execution": {
     "iopub.execute_input": "2022-02-18T07:01:27.817119Z",
     "iopub.status.busy": "2022-02-18T07:01:27.816857Z",
     "iopub.status.idle": "2022-02-18T07:01:32.876951Z",
     "shell.execute_reply": "2022-02-18T07:01:32.875950Z",
     "shell.execute_reply.started": "2022-02-18T07:01:27.817087Z"
    }
   },
   "outputs": [],
   "source": [
    "from tensorflow.keras.preprocessing.image import ImageDataGenerator"
   ]
  },
  {
   "cell_type": "code",
   "execution_count": 3,
   "metadata": {
    "execution": {
     "iopub.execute_input": "2022-02-18T07:01:32.878617Z",
     "iopub.status.busy": "2022-02-18T07:01:32.878339Z",
     "iopub.status.idle": "2022-02-18T07:01:33.166703Z",
     "shell.execute_reply": "2022-02-18T07:01:33.165961Z",
     "shell.execute_reply.started": "2022-02-18T07:01:32.878578Z"
    }
   },
   "outputs": [],
   "source": [
    "import cv2\n",
    "cv2.imread('../input/brain-mri-images-for-brain-tumor-detection/no/12 no.jpg').shape"
   ]
  },
  {
   "cell_type": "code",
   "execution_count": 31,
   "metadata": {
    "execution": {
     "iopub.execute_input": "2022-02-18T07:06:49.437422Z",
     "iopub.status.busy": "2022-02-18T07:06:49.436827Z",
     "iopub.status.idle": "2022-02-18T07:06:49.442009Z",
     "shell.execute_reply": "2022-02-18T07:06:49.441060Z",
     "shell.execute_reply.started": "2022-02-18T07:06:49.437381Z"
    }
   },
   "outputs": [],
   "source": [
    "data_gen = ImageDataGenerator(zoom_range=0.2,rescale=1/255)"
   ]
  },
  {
   "cell_type": "code",
   "execution_count": 32,
   "metadata": {
    "execution": {
     "iopub.execute_input": "2022-02-18T07:06:50.507776Z",
     "iopub.status.busy": "2022-02-18T07:06:50.507521Z",
     "iopub.status.idle": "2022-02-18T07:06:50.620787Z",
     "shell.execute_reply": "2022-02-18T07:06:50.619135Z",
     "shell.execute_reply.started": "2022-02-18T07:06:50.507748Z"
    }
   },
   "outputs": [],
   "source": [
    "train_data=data_gen.flow_from_directory('../input/brain-mri-images-for-brain-tumor-detection/brain_tumor_dataset', target_size=(180,180), \n",
    "                             )"
   ]
  },
  {
   "cell_type": "code",
   "execution_count": 33,
   "metadata": {
    "execution": {
     "iopub.execute_input": "2022-02-18T07:06:50.829193Z",
     "iopub.status.busy": "2022-02-18T07:06:50.828951Z",
     "iopub.status.idle": "2022-02-18T07:06:50.835025Z",
     "shell.execute_reply": "2022-02-18T07:06:50.834184Z",
     "shell.execute_reply.started": "2022-02-18T07:06:50.829164Z"
    }
   },
   "outputs": [],
   "source": [
    "train_data.class_indices"
   ]
  },
  {
   "cell_type": "code",
   "execution_count": 34,
   "metadata": {
    "execution": {
     "iopub.execute_input": "2022-02-18T07:06:51.212681Z",
     "iopub.status.busy": "2022-02-18T07:06:51.212125Z",
     "iopub.status.idle": "2022-02-18T07:06:51.219710Z",
     "shell.execute_reply": "2022-02-18T07:06:51.217216Z",
     "shell.execute_reply.started": "2022-02-18T07:06:51.212640Z"
    }
   },
   "outputs": [],
   "source": [
    "train_data.image_shape"
   ]
  },
  {
   "cell_type": "code",
   "execution_count": 43,
   "metadata": {
    "execution": {
     "iopub.execute_input": "2022-02-18T07:12:12.462810Z",
     "iopub.status.busy": "2022-02-18T07:12:12.462181Z",
     "iopub.status.idle": "2022-02-18T07:12:12.470420Z",
     "shell.execute_reply": "2022-02-18T07:12:12.469277Z",
     "shell.execute_reply.started": "2022-02-18T07:12:12.462771Z"
    }
   },
   "outputs": [],
   "source": [
    "from tensorflow.keras.applications.resnet50 import ResNet50\n",
    "from tensorflow.keras.applications.inception_v3 import InceptionV3\n",
    "from tensorflow.keras.models import Model\n",
    "from tensorflow.keras.layers import Dense, Flatten"
   ]
  },
  {
   "cell_type": "code",
   "execution_count": null,
   "metadata": {},
   "outputs": [],
   "source": []
  },
  {
   "cell_type": "code",
   "execution_count": 44,
   "metadata": {
    "execution": {
     "iopub.execute_input": "2022-02-18T07:12:34.906010Z",
     "iopub.status.busy": "2022-02-18T07:12:34.905741Z",
     "iopub.status.idle": "2022-02-18T07:12:39.636958Z",
     "shell.execute_reply": "2022-02-18T07:12:39.636224Z",
     "shell.execute_reply.started": "2022-02-18T07:12:34.905979Z"
    }
   },
   "outputs": [],
   "source": [
    "# resnet = ResNet50(include_top=False, input_shape=(180,180,3))\n",
    "resnet = InceptionV3(include_top=False, input_shape=(180,180,3))"
   ]
  },
  {
   "cell_type": "code",
   "execution_count": 46,
   "metadata": {
    "execution": {
     "iopub.execute_input": "2022-02-18T07:12:57.606984Z",
     "iopub.status.busy": "2022-02-18T07:12:57.606715Z",
     "iopub.status.idle": "2022-02-18T07:12:57.620818Z",
     "shell.execute_reply": "2022-02-18T07:12:57.619823Z",
     "shell.execute_reply.started": "2022-02-18T07:12:57.606952Z"
    }
   },
   "outputs": [],
   "source": [
    "for layer in resnet.layers:\n",
    "    layer.trainable = False"
   ]
  },
  {
   "cell_type": "code",
   "execution_count": 47,
   "metadata": {
    "execution": {
     "iopub.execute_input": "2022-02-18T07:13:00.664476Z",
     "iopub.status.busy": "2022-02-18T07:13:00.663733Z",
     "iopub.status.idle": "2022-02-18T07:13:00.681003Z",
     "shell.execute_reply": "2022-02-18T07:13:00.680342Z",
     "shell.execute_reply.started": "2022-02-18T07:13:00.664425Z"
    }
   },
   "outputs": [],
   "source": [
    "final_layer=Dense(2, activation='softmax')(Flatten()(resnet.output))"
   ]
  },
  {
   "cell_type": "code",
   "execution_count": 48,
   "metadata": {
    "execution": {
     "iopub.execute_input": "2022-02-18T07:13:02.127146Z",
     "iopub.status.busy": "2022-02-18T07:13:02.126498Z",
     "iopub.status.idle": "2022-02-18T07:13:02.151873Z",
     "shell.execute_reply": "2022-02-18T07:13:02.151177Z",
     "shell.execute_reply.started": "2022-02-18T07:13:02.127108Z"
    }
   },
   "outputs": [],
   "source": [
    "model = Model(inputs= resnet.input, outputs = final_layer)"
   ]
  },
  {
   "cell_type": "code",
   "execution_count": 49,
   "metadata": {
    "execution": {
     "iopub.execute_input": "2022-02-18T07:13:03.183973Z",
     "iopub.status.busy": "2022-02-18T07:13:03.183242Z",
     "iopub.status.idle": "2022-02-18T07:13:03.200221Z",
     "shell.execute_reply": "2022-02-18T07:13:03.199430Z",
     "shell.execute_reply.started": "2022-02-18T07:13:03.183935Z"
    }
   },
   "outputs": [],
   "source": [
    "model.compile(loss='categorical_crossentropy', metrics=['accuracy'])"
   ]
  },
  {
   "cell_type": "code",
   "execution_count": 41,
   "metadata": {
    "execution": {
     "iopub.execute_input": "2022-02-18T07:07:08.524824Z",
     "iopub.status.busy": "2022-02-18T07:07:08.524132Z",
     "iopub.status.idle": "2022-02-18T07:07:08.528045Z",
     "shell.execute_reply": "2022-02-18T07:07:08.527350Z",
     "shell.execute_reply.started": "2022-02-18T07:07:08.524771Z"
    }
   },
   "outputs": [],
   "source": [
    "# model.summary()"
   ]
  },
  {
   "cell_type": "code",
   "execution_count": 50,
   "metadata": {
    "execution": {
     "iopub.execute_input": "2022-02-18T07:13:11.230332Z",
     "iopub.status.busy": "2022-02-18T07:13:11.230055Z",
     "iopub.status.idle": "2022-02-18T07:15:43.889865Z",
     "shell.execute_reply": "2022-02-18T07:15:43.889148Z",
     "shell.execute_reply.started": "2022-02-18T07:13:11.230282Z"
    }
   },
   "outputs": [],
   "source": [
    "hist=model.fit(train_data,epochs=60)"
   ]
  },
  {
   "cell_type": "code",
   "execution_count": 16,
   "metadata": {
    "execution": {
     "iopub.execute_input": "2022-02-18T07:02:37.786687Z",
     "iopub.status.busy": "2022-02-18T07:02:37.785949Z",
     "iopub.status.idle": "2022-02-18T07:02:37.792146Z",
     "shell.execute_reply": "2022-02-18T07:02:37.791362Z",
     "shell.execute_reply.started": "2022-02-18T07:02:37.786643Z"
    }
   },
   "outputs": [],
   "source": [
    "train_data"
   ]
  },
  {
   "cell_type": "code",
   "execution_count": null,
   "metadata": {},
   "outputs": [],
   "source": []
  }
 ],
 "metadata": {
  "kernelspec": {
   "display_name": "Python 3 (ipykernel)",
   "language": "python",
   "name": "python3"
  },
  "language_info": {
   "codemirror_mode": {
    "name": "ipython",
    "version": 3
   },
   "file_extension": ".py",
   "mimetype": "text/x-python",
   "name": "python",
   "nbconvert_exporter": "python",
   "pygments_lexer": "ipython3",
   "version": "3.9.7"
  }
 },
 "nbformat": 4,
 "nbformat_minor": 4
}
